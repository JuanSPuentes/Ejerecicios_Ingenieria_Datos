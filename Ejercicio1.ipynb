{
 "cells": [
  {
   "cell_type": "code",
   "execution_count": 59,
   "metadata": {},
   "outputs": [],
   "source": [
    "import pandas as pd\n",
    "import numpy as np\n",
    "import matplotlib.pyplot as plt"
   ]
  },
  {
   "attachments": {},
   "cell_type": "markdown",
   "metadata": {},
   "source": [
    "Cargar de CSV"
   ]
  },
  {
   "cell_type": "code",
   "execution_count": 60,
   "metadata": {},
   "outputs": [],
   "source": [
    "df = pd.read_csv('Data/US_Crime_Data.csv')"
   ]
  },
  {
   "attachments": {},
   "cell_type": "markdown",
   "metadata": {},
   "source": [
    "Diccionario para reemplazar datos de la columna de State"
   ]
  },
  {
   "cell_type": "code",
   "execution_count": 61,
   "metadata": {},
   "outputs": [],
   "source": [
    "key = ['ak','al','ar','az','ca','co','ct','de','fl','ga','hi','ia','id','il','in','ks',\n",
    "'ky','la','ma','md','me','mi','mn','mo','ms','mt','nc','nd','ne','nh','nj','nm','nv','ny',\n",
    "'oh','ok','or','pa','ri','sc','sd','tn','tx','ut','va','vt','wa','wi','wv','wy']\n",
    "\n",
    "value = ['Alaska', 'Alabama', 'Arkansas', 'Arizona', 'California', 'Colorado', 'Connecticut',\n",
    "         'Delaware', 'Florida', 'Georgia', 'Hawai', 'Iowa', 'Idaho', 'Illinois',\n",
    "         'Indiana', 'Kansas', 'Kentucky', 'Louisiana', 'Massachusetts', 'Maryland', 'Maine', \n",
    "         'Michigan', 'Minnesota', 'Missouri', 'Misisipi', 'Montana', 'North Carolina', 'North Dakota',\n",
    "         'Nebraska', 'New Hampshire', 'New Jersey', 'New México', 'Nevada', 'New York', 'Ohio','Oklahoma',\n",
    "         'Oregon', 'Pensilvania', 'Rhode Island', 'South Carolina', 'South Dakota', 'Tennessee', 'Texas',\n",
    "         'Utah', 'Virginia', 'Vermont', 'Washington', 'Wisconsin', 'West Virginia', 'Wyoming']\n",
    "\n",
    "dic = dict(zip(key, value))"
   ]
  },
  {
   "attachments": {},
   "cell_type": "markdown",
   "metadata": {},
   "source": [
    "Correcion el la columna de State  \"Algunos de los stados no son estados son ciudades o ubicaciones\""
   ]
  },
  {
   "cell_type": "code",
   "execution_count": 62,
   "metadata": {},
   "outputs": [],
   "source": [
    "\n",
    "filtro1 = (df['State'].str.lower() == 'DC'.lower() ) | (df['State'].str.lower() =='D.C.'.lower() ) | (df['State'].str.lower() =='District Of Columbia'.lower())\n",
    "df[filtro1] = 'wa'\n",
    "\n",
    "filtro2 = (df['State'].str.lower() =='Los Angeles, California'.lower()) | (df['State'].str.lower() =='Venice Beach, Ca 90291'.lower()) | (df['State'].str.lower() ==\"New York And California\".lower()) \n",
    "df[filtro2] = 'ca'\n",
    "\n",
    "\n",
    "filtro3 = (df['State'].str.lower() =='Chicago'.lower())\n",
    "df[filtro3] = 'il'\n",
    "\n",
    "filtro3 = (df['State'].str.lower() =='io'.lower())\n",
    "df[filtro3] = 'ia'"
   ]
  },
  {
   "attachments": {},
   "cell_type": "markdown",
   "metadata": {},
   "source": [
    "Transformacion de la data"
   ]
  },
  {
   "cell_type": "code",
   "execution_count": 63,
   "metadata": {},
   "outputs": [],
   "source": [
    "df['City'] = df['City'].str.capitalize()\n",
    "df['State'] = df['State'].str.lower()\n",
    "df['State']= df['State'].apply(lambda x : str(x).replace('.', ''))\n",
    "\"\"\" Alexandria Va es una Ciudad de Virginia \"\"\"\n",
    "fil = df['State'] == 'alexandria va'\n",
    "\"\"\" Se actualiza todos los State de alexandria va a Virgina \"\"\"\n",
    "df[fil] = 'Virginia'"
   ]
  },
  {
   "cell_type": "code",
   "execution_count": 64,
   "metadata": {},
   "outputs": [],
   "source": [
    "\"\"\" Actualizacion de la columna State \"\"\"\n",
    "for i,j in enumerate(df['State']):\n",
    "    if j in dic.keys():\n",
    "        for k,m in enumerate(dic):\n",
    "            if j == m:\n",
    "                df['State'][i] = dic[m]\n",
    "df['State'] = df['State'].str.title()"
   ]
  },
  {
   "attachments": {},
   "cell_type": "markdown",
   "metadata": {},
   "source": [
    "Funcion para obtener DataFrame de datos agrupados con columna de conteo"
   ]
  },
  {
   "cell_type": "code",
   "execution_count": 65,
   "metadata": {},
   "outputs": [],
   "source": [
    "def ContarColum(df_count):\n",
    "    df_count = pd.DataFrame({'Count': df_count}).reset_index()\n",
    "    return df_count"
   ]
  },
  {
   "attachments": {},
   "cell_type": "markdown",
   "metadata": {},
   "source": [
    "Cantidad de crimenes por ciudad"
   ]
  },
  {
   "cell_type": "code",
   "execution_count": 66,
   "metadata": {},
   "outputs": [
    {
     "data": {
      "text/plain": [
       "' Grafico de barras '"
      ]
     },
     "execution_count": 66,
     "metadata": {},
     "output_type": "execute_result"
    }
   ],
   "source": [
    "cantidad_city = ContarColum(df.groupby(by='City').size())\n",
    "\"\"\" Grafico de barras \"\"\"\n",
    "#plt.bar(cantidad_city['City'], cantidad_city['Count'])\n",
    "#plt.show()"
   ]
  },
  {
   "attachments": {},
   "cell_type": "markdown",
   "metadata": {},
   "source": [
    "Cantidad de crimenes por Estado"
   ]
  },
  {
   "cell_type": "code",
   "execution_count": 67,
   "metadata": {},
   "outputs": [
    {
     "data": {
      "text/plain": [
       "' Grafico de barras '"
      ]
     },
     "execution_count": 67,
     "metadata": {},
     "output_type": "execute_result"
    }
   ],
   "source": [
    "cantidad_state = ContarColum(df.groupby(by=['State']).size())\n",
    "\"\"\" Grafico de barras \"\"\"\n",
    "#plt.bar(cantidad_state['State'], cantidad_state['Count'])\n",
    "#plt.show()\n"
   ]
  },
  {
   "attachments": {},
   "cell_type": "markdown",
   "metadata": {},
   "source": [
    "Tabla de Estados"
   ]
  },
  {
   "cell_type": "code",
   "execution_count": 77,
   "metadata": {},
   "outputs": [
    {
     "data": {
      "text/plain": [
       "0      al\n",
       "1      ak\n",
       "2      az\n",
       "3      ar\n",
       "4      ca\n",
       "5      co\n",
       "6      ct\n",
       "7      de\n",
       "8      fl\n",
       "9      ga\n",
       "10     hi\n",
       "11     id\n",
       "12     il\n",
       "13     in\n",
       "14     ia\n",
       "15     ks\n",
       "16     ky\n",
       "17     la\n",
       "18     me\n",
       "19     md\n",
       "20     ma\n",
       "21     mi\n",
       "22     mn\n",
       "23     ms\n",
       "24     mo\n",
       "25     mt\n",
       "26    NaN\n",
       "27     ne\n",
       "28     nv\n",
       "29     nh\n",
       "30     nj\n",
       "31     nm\n",
       "32     ny\n",
       "33     nc\n",
       "34     nd\n",
       "35     oh\n",
       "36     ok\n",
       "37     or\n",
       "38    NaN\n",
       "39     pa\n",
       "40     ri\n",
       "41     sc\n",
       "42    NaN\n",
       "43     sd\n",
       "44     tn\n",
       "45     tx\n",
       "46     ut\n",
       "47     vt\n",
       "48     va\n",
       "49     wa\n",
       "50     wv\n",
       "51     wi\n",
       "52     wy\n",
       "Name: Code, dtype: object"
      ]
     },
     "execution_count": 77,
     "metadata": {},
     "output_type": "execute_result"
    }
   ],
   "source": [
    "\"\"\" Dim States \"\"\"\n",
    "df_state = df.groupby(by='State').mean(numeric_only=True).reset_index()\n",
    "df_state.rename(columns={'State':'Name_State'},inplace=True)\n",
    "\n",
    "\"\"\" Data Frame de Codes State \"\"\"\n",
    "df_codes_state = pd.DataFrame({'Code':key, 'State':value})\n",
    "\n",
    "\"\"\" Merge para crear el Dim_States \"\"\"\n",
    "df_state = df_state.merge(df_codes_state, how = 'left',left_on='Name_State', right_on='State',)\n",
    "\n",
    "\"\"\" Eliminar columna inecesaria del merge\"\"\"\n",
    "df_state.pop('State')\n",
    "df_state['Code_State'] = df_state['Code'].str.upper()\n",
    "df_state.pop('Code')"
   ]
  },
  {
   "attachments": {},
   "cell_type": "markdown",
   "metadata": {},
   "source": [
    "Tabla de Ciudades Con estados"
   ]
  },
  {
   "cell_type": "code",
   "execution_count": 78,
   "metadata": {},
   "outputs": [
    {
     "data": {
      "text/html": [
       "<div>\n",
       "<style scoped>\n",
       "    .dataframe tbody tr th:only-of-type {\n",
       "        vertical-align: middle;\n",
       "    }\n",
       "\n",
       "    .dataframe tbody tr th {\n",
       "        vertical-align: top;\n",
       "    }\n",
       "\n",
       "    .dataframe thead th {\n",
       "        text-align: right;\n",
       "    }\n",
       "</style>\n",
       "<table border=\"1\" class=\"dataframe\">\n",
       "  <thead>\n",
       "    <tr style=\"text-align: right;\">\n",
       "      <th></th>\n",
       "      <th>Name_City</th>\n",
       "      <th>Name_State</th>\n",
       "      <th>Code_State</th>\n",
       "    </tr>\n",
       "  </thead>\n",
       "  <tbody>\n",
       "    <tr>\n",
       "      <th>0</th>\n",
       "      <td>Aberdeen</td>\n",
       "      <td>South Dakota</td>\n",
       "      <td>SD</td>\n",
       "    </tr>\n",
       "    <tr>\n",
       "      <th>1</th>\n",
       "      <td>Aberdeen</td>\n",
       "      <td>Washington</td>\n",
       "      <td>WA</td>\n",
       "    </tr>\n",
       "    <tr>\n",
       "      <th>2</th>\n",
       "      <td>Abernathy</td>\n",
       "      <td>Texas</td>\n",
       "      <td>TX</td>\n",
       "    </tr>\n",
       "    <tr>\n",
       "      <th>3</th>\n",
       "      <td>Abilene</td>\n",
       "      <td>Texas</td>\n",
       "      <td>TX</td>\n",
       "    </tr>\n",
       "    <tr>\n",
       "      <th>4</th>\n",
       "      <td>Adelphi</td>\n",
       "      <td>Maryland</td>\n",
       "      <td>MD</td>\n",
       "    </tr>\n",
       "    <tr>\n",
       "      <th>...</th>\n",
       "      <td>...</td>\n",
       "      <td>...</td>\n",
       "      <td>...</td>\n",
       "    </tr>\n",
       "    <tr>\n",
       "      <th>904</th>\n",
       "      <td>York</td>\n",
       "      <td>Pensilvania</td>\n",
       "      <td>PA</td>\n",
       "    </tr>\n",
       "    <tr>\n",
       "      <th>905</th>\n",
       "      <td>Youngstown</td>\n",
       "      <td>Ohio</td>\n",
       "      <td>OH</td>\n",
       "    </tr>\n",
       "    <tr>\n",
       "      <th>906</th>\n",
       "      <td>Ypsilanti</td>\n",
       "      <td>Michigan</td>\n",
       "      <td>MI</td>\n",
       "    </tr>\n",
       "    <tr>\n",
       "      <th>907</th>\n",
       "      <td>Yuma</td>\n",
       "      <td>Arizona</td>\n",
       "      <td>AZ</td>\n",
       "    </tr>\n",
       "    <tr>\n",
       "      <th>908</th>\n",
       "      <td>Zanesville</td>\n",
       "      <td>Ohio</td>\n",
       "      <td>OH</td>\n",
       "    </tr>\n",
       "  </tbody>\n",
       "</table>\n",
       "<p>909 rows × 3 columns</p>\n",
       "</div>"
      ],
      "text/plain": [
       "      Name_City    Name_State Code_State\n",
       "0      Aberdeen  South Dakota         SD\n",
       "1      Aberdeen    Washington         WA\n",
       "2     Abernathy         Texas         TX\n",
       "3       Abilene         Texas         TX\n",
       "4       Adelphi      Maryland         MD\n",
       "..          ...           ...        ...\n",
       "904        York   Pensilvania         PA\n",
       "905  Youngstown          Ohio         OH\n",
       "906   Ypsilanti      Michigan         MI\n",
       "907        Yuma       Arizona         AZ\n",
       "908  Zanesville          Ohio         OH\n",
       "\n",
       "[909 rows x 3 columns]"
      ]
     },
     "execution_count": 78,
     "metadata": {},
     "output_type": "execute_result"
    }
   ],
   "source": [
    "\"\"\" Dim City \"\"\"\n",
    "df_city = df.groupby(by='City').mean(numeric_only=True).reset_index()\n",
    "df_city.rename(columns={'City':'Name_City'},inplace=True)\n",
    "\n",
    "\"\"\" Merge para crear el Dim_States \"\"\"\n",
    "df2 = df.groupby(by=['City', 'State']).mean(numeric_only=True).reset_index()\n",
    "df_city = df_city.merge(df2, how = 'left', left_on='Name_City', right_on='City',)\n",
    "\n",
    "\"\"\" Agregando el id_code del la dim_states \"\"\"\n",
    "df_city = df_city.merge(df_state, how = 'left', left_on='State', right_on='Name_State')\n",
    "\n",
    "\"\"\" Eliminar columna innecesaria del merge \"\"\"\n",
    "df_city.pop('City')\n",
    "df_city.pop('State')\n",
    "df_city\n"
   ]
  },
  {
   "cell_type": "code",
   "execution_count": null,
   "metadata": {},
   "outputs": [],
   "source": []
  }
 ],
 "metadata": {
  "kernelspec": {
   "display_name": "Python 3",
   "language": "python",
   "name": "python3"
  },
  "language_info": {
   "codemirror_mode": {
    "name": "ipython",
    "version": 3
   },
   "file_extension": ".py",
   "mimetype": "text/x-python",
   "name": "python",
   "nbconvert_exporter": "python",
   "pygments_lexer": "ipython3",
   "version": "3.9.4 (tags/v3.9.4:1f2e308, Apr  6 2021, 13:40:21) [MSC v.1928 64 bit (AMD64)]"
  },
  "orig_nbformat": 4,
  "vscode": {
   "interpreter": {
    "hash": "23b37b2c5ef3af92e6c5a1f41260f4d7d87b94b19a6a0241a9df183c040122f9"
   }
  }
 },
 "nbformat": 4,
 "nbformat_minor": 2
}

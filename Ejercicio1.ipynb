{
 "cells": [
  {
   "cell_type": "code",
   "execution_count": 592,
   "metadata": {},
   "outputs": [],
   "source": [
    "import pandas as pd\n",
    "import numpy as np\n",
    "import matplotlib.pyplot as plt"
   ]
  },
  {
   "attachments": {},
   "cell_type": "markdown",
   "metadata": {},
   "source": [
    "Cargar de CSV"
   ]
  },
  {
   "cell_type": "code",
   "execution_count": 593,
   "metadata": {},
   "outputs": [],
   "source": [
    "df = pd.read_csv('Data/US_Crime_Data.csv')"
   ]
  },
  {
   "attachments": {},
   "cell_type": "markdown",
   "metadata": {},
   "source": [
    "Diccionario para reemplazar datos de la columna de State"
   ]
  },
  {
   "cell_type": "code",
   "execution_count": 594,
   "metadata": {},
   "outputs": [],
   "source": [
    "key = ['ak','al','ar','az','ca','co','ct','de','fl','ga','hi','ia','id','il','in','ks',\n",
    "'ky','la','ma','md','me','mi','mn','mo','ms','mt','nc','nd','ne','nh','nj','nm','nv','ny',\n",
    "'oh','ok','or','pa','ri','sc','sd','tn','tx','ut','va','vt','wa','wi','wv','wy']\n",
    "\n",
    "value = ['Alaska', 'Alabama', 'Arkansas', 'Arizona', 'California', 'Colorado', 'Connecticut',\n",
    "         'Delaware', 'Florida', 'Georgia', 'Hawai', 'Iowa', 'Idaho', 'Illinois',\n",
    "         'Indiana', 'Kansas', 'Kentucky', 'Louisiana', 'Massachusetts', 'Maryland', 'Maine', \n",
    "         'Michigan', 'Minnesota', 'Missouri', 'Misisipi', 'Montana', 'North Carolina', 'North Dakota',\n",
    "         'Nebraska', 'New Hampshire', 'New Jersey', 'New México', 'Nevada', 'New York', 'Ohio','Oklahoma',\n",
    "         'Oregon', 'Pensilvania', 'Rhode Island', 'South Carolina', 'South Dakota', 'Tennessee', 'Texas',\n",
    "         'Utah', 'Virginia', 'Vermont', 'Washington', 'Wisconsin', 'West Virginia', 'Wyoming']\n",
    "\n",
    "dic = dict(zip(key, value))"
   ]
  },
  {
   "attachments": {},
   "cell_type": "markdown",
   "metadata": {},
   "source": [
    "Correcion el la columna de State  \"Algunos de los stados no son estados son ciudades o ubicaciones\""
   ]
  },
  {
   "cell_type": "code",
   "execution_count": 595,
   "metadata": {},
   "outputs": [],
   "source": [
    "\n",
    "filtro1 = (df['State'].str.lower() == 'DC'.lower() ) | (df['State'].str.lower() =='D.C.'.lower() ) | (df['State'].str.lower() =='District Of Columbia'.lower())\n",
    "df[filtro1] = 'wa'\n",
    "\n",
    "filtro2 = (df['State'].str.lower() =='Los Angeles, California'.lower()) | (df['State'].str.lower() =='Venice Beach, Ca 90291'.lower()) | (df['State'].str.lower() ==\"New York And California\".lower()) \n",
    "df[filtro2] = 'ca'\n",
    "\n",
    "\n",
    "filtro3 = (df['State'].str.lower() =='Chicago'.lower())\n",
    "df[filtro3] = 'il'\n",
    "\n",
    "filtro3 = (df['State'].str.lower() =='io'.lower())\n",
    "df[filtro3] = 'ia'"
   ]
  },
  {
   "attachments": {},
   "cell_type": "markdown",
   "metadata": {},
   "source": [
    "Transformacion de la data"
   ]
  },
  {
   "cell_type": "code",
   "execution_count": 596,
   "metadata": {},
   "outputs": [],
   "source": [
    "df['City'] = df['City'].str.capitalize()\n",
    "df['State'] = df['State'].str.lower()\n",
    "df['State']= df['State'].apply(lambda x : str(x).replace('.', ''))\n",
    "\"\"\" Alexandria Va es una Ciudad de Virginia \"\"\"\n",
    "fil = df['State'] == 'alexandria va'\n",
    "\"\"\" Se actualiza todos los State de alexandria va a Virgina \"\"\"\n",
    "df[fil] = 'Virginia'"
   ]
  },
  {
   "cell_type": "code",
   "execution_count": 597,
   "metadata": {},
   "outputs": [],
   "source": [
    "\"\"\" Actualizacion de la columna State \"\"\"\n",
    "for i,j in enumerate(df['State']):\n",
    "    if j in dic.keys():\n",
    "        for k,m in enumerate(dic):\n",
    "            if j == m:\n",
    "                df['State'][i] = dic[m]\n",
    "df['State'] = df['State'].str.title()"
   ]
  },
  {
   "attachments": {},
   "cell_type": "markdown",
   "metadata": {},
   "source": [
    "Funcion para obtener DataFrame de datos agrupados con columna de conteo"
   ]
  },
  {
   "cell_type": "code",
   "execution_count": 598,
   "metadata": {},
   "outputs": [],
   "source": [
    "def ContarColum(df_count):\n",
    "    df_count = pd.DataFrame({'Count': df_count}).reset_index()\n",
    "    return df_count"
   ]
  },
  {
   "attachments": {},
   "cell_type": "markdown",
   "metadata": {},
   "source": [
    "Cantidad de crimenes por ciudad"
   ]
  },
  {
   "cell_type": "code",
   "execution_count": 599,
   "metadata": {},
   "outputs": [
    {
     "data": {
      "text/plain": [
       "' Grafico de barras '"
      ]
     },
     "execution_count": 599,
     "metadata": {},
     "output_type": "execute_result"
    }
   ],
   "source": [
    "cantidad_city = ContarColum(df.groupby(by='City').size())\n",
    "\"\"\" Grafico de barras \"\"\"\n",
    "#plt.bar(cantidad_city['City'], cantidad_city['Count'])\n",
    "#plt.show()"
   ]
  },
  {
   "attachments": {},
   "cell_type": "markdown",
   "metadata": {},
   "source": [
    "Cantidad de crimenes por Estado"
   ]
  },
  {
   "cell_type": "code",
   "execution_count": 600,
   "metadata": {},
   "outputs": [
    {
     "data": {
      "text/plain": [
       "' Grafico de barras '"
      ]
     },
     "execution_count": 600,
     "metadata": {},
     "output_type": "execute_result"
    }
   ],
   "source": [
    "cantidad_state = ContarColum(df.groupby(by=['State']).size())\n",
    "\"\"\" Grafico de barras \"\"\"\n",
    "#plt.bar(cantidad_state['State'], cantidad_state['Count'])\n",
    "#plt.show()\n"
   ]
  },
  {
   "attachments": {},
   "cell_type": "markdown",
   "metadata": {},
   "source": [
    "Creacion de Dimensiones"
   ]
  },
  {
   "attachments": {},
   "cell_type": "markdown",
   "metadata": {},
   "source": [
    "1.1 Dim States"
   ]
  },
  {
   "cell_type": "code",
   "execution_count": 602,
   "metadata": {},
   "outputs": [],
   "source": [
    "\"\"\" Dim States \"\"\"\n",
    "df_dim_state = df.groupby(by='State').mean(numeric_only=True).reset_index()\n",
    "df_dim_state.rename(columns={'State':'Name_State'},inplace=True)\n",
    "\n",
    "\n",
    "\n",
    "\"\"\" Data Frame de Codes State \"\"\"\n",
    "df_codes_state = pd.DataFrame({'Code':key, 'State':value})\n",
    "\n",
    "\"\"\" Merge para crear el Dim_States \"\"\"\n",
    "df_dim_state = df_dim_state.merge(df_codes_state, how = 'left',left_on='Name_State', right_on='State',)\n",
    "\n",
    "\"\"\" Eliminar columna State porque es inecesaria \"\"\"\n",
    "df_dim_state.pop('State')\n",
    "df_dim_state['Code'] = df_dim_state['Code'].str.upper()\n"
   ]
  },
  {
   "attachments": {},
   "cell_type": "markdown",
   "metadata": {},
   "source": [
    "1.2 Dim City"
   ]
  },
  {
   "cell_type": "code",
   "execution_count": null,
   "metadata": {},
   "outputs": [],
   "source": []
  }
 ],
 "metadata": {
  "kernelspec": {
   "display_name": "Python 3",
   "language": "python",
   "name": "python3"
  },
  "language_info": {
   "codemirror_mode": {
    "name": "ipython",
    "version": 3
   },
   "file_extension": ".py",
   "mimetype": "text/x-python",
   "name": "python",
   "nbconvert_exporter": "python",
   "pygments_lexer": "ipython3",
   "version": "3.9.4 (tags/v3.9.4:1f2e308, Apr  6 2021, 13:40:21) [MSC v.1928 64 bit (AMD64)]"
  },
  "orig_nbformat": 4,
  "vscode": {
   "interpreter": {
    "hash": "23b37b2c5ef3af92e6c5a1f41260f4d7d87b94b19a6a0241a9df183c040122f9"
   }
  }
 },
 "nbformat": 4,
 "nbformat_minor": 2
}
